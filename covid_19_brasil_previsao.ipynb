{
  "nbformat": 4,
  "nbformat_minor": 0,
  "metadata": {
    "colab": {
      "name": "covid-19-brasil-previsao",
      "provenance": []
    },
    "kernelspec": {
      "name": "python3",
      "display_name": "Python 3"
    }
  },
  "cells": [
    {
      "cell_type": "markdown",
      "metadata": {
        "id": "BFZX33byNt_P",
        "colab_type": "text"
      },
      "source": [
        "#COVID-19 no Brasil exercício de previsão de letalidade\n",
        " \n",
        " > Esse notebook foi criado apenas para por em prática o que venho estudando sobre Data Science.\n",
        " \n",
        " As fontes de dados usadas aqui vem de [United Nations](https://population.un.org/wpp/Download/Standard/CSV/)"
      ]
    },
    {
      "cell_type": "code",
      "metadata": {
        "id": "V2PSnLuHNFyH",
        "colab_type": "code",
        "colab": {}
      },
      "source": [
        "import pandas as pd\n",
        "from pandas.testing import assert_frame_equal\n",
        "import matplotlib.pyplot as plt\n",
        "\n",
        "plt.style.use('seaborn-whitegrid')"
      ],
      "execution_count": 0,
      "outputs": []
    },
    {
      "cell_type": "code",
      "metadata": {
        "id": "ZfgKtf5tOHy2",
        "colab_type": "code",
        "colab": {}
      },
      "source": [
        "# data repository\n",
        "un_population = pd.read_csv(\"https://population.un.org/wpp/Download/Files/1_Indicators%20(Standard)/CSV_FILES/WPP2019_PopulationByAgeSex_Medium.csv\")"
      ],
      "execution_count": 0,
      "outputs": []
    },
    {
      "cell_type": "markdown",
      "metadata": {
        "id": "dYhPo2x9rUF6",
        "colab_type": "text"
      },
      "source": [
        "# Filtrando a população mundial pelo ano de 2019 e por faixa etária\n",
        " Amostragem do Brasil\n",
        " - População total na faixa etária (milhares)"
      ]
    },
    {
      "cell_type": "code",
      "metadata": {
        "id": "nv61AUhFPRwk",
        "colab_type": "code",
        "colab": {
          "base_uri": "https://localhost:8080/",
          "height": 698
        },
        "outputId": "bbd1e85b-fdeb-4c8e-f90f-fb8470b67b48"
      },
      "source": [
        "un_population[\"PopTotal\"] = un_population[\"PopTotal\"] * 1000\n",
        "un_population_total = un_population.query(\"Time==2019\")[[\"Location\", \"AgeGrp\",\"PopTotal\"]].set_index(\"Location\")\n",
        "un_population_total.query(\"Location=='Brazil'\")"
      ],
      "execution_count": 4,
      "outputs": [
        {
          "output_type": "execute_result",
          "data": {
            "text/html": [
              "<div>\n",
              "<style scoped>\n",
              "    .dataframe tbody tr th:only-of-type {\n",
              "        vertical-align: middle;\n",
              "    }\n",
              "\n",
              "    .dataframe tbody tr th {\n",
              "        vertical-align: top;\n",
              "    }\n",
              "\n",
              "    .dataframe thead th {\n",
              "        text-align: right;\n",
              "    }\n",
              "</style>\n",
              "<table border=\"1\" class=\"dataframe\">\n",
              "  <thead>\n",
              "    <tr style=\"text-align: right;\">\n",
              "      <th></th>\n",
              "      <th>AgeGrp</th>\n",
              "      <th>PopTotal</th>\n",
              "    </tr>\n",
              "    <tr>\n",
              "      <th>Location</th>\n",
              "      <th></th>\n",
              "      <th></th>\n",
              "    </tr>\n",
              "  </thead>\n",
              "  <tbody>\n",
              "    <tr>\n",
              "      <th>Brazil</th>\n",
              "      <td>0-4</td>\n",
              "      <td>14571950.0</td>\n",
              "    </tr>\n",
              "    <tr>\n",
              "      <th>Brazil</th>\n",
              "      <td>5-9</td>\n",
              "      <td>14616230.0</td>\n",
              "    </tr>\n",
              "    <tr>\n",
              "      <th>Brazil</th>\n",
              "      <td>10-14</td>\n",
              "      <td>15151589.0</td>\n",
              "    </tr>\n",
              "    <tr>\n",
              "      <th>Brazil</th>\n",
              "      <td>15-19</td>\n",
              "      <td>16481486.0</td>\n",
              "    </tr>\n",
              "    <tr>\n",
              "      <th>Brazil</th>\n",
              "      <td>20-24</td>\n",
              "      <td>17206784.0</td>\n",
              "    </tr>\n",
              "    <tr>\n",
              "      <th>Brazil</th>\n",
              "      <td>25-29</td>\n",
              "      <td>16974616.0</td>\n",
              "    </tr>\n",
              "    <tr>\n",
              "      <th>Brazil</th>\n",
              "      <td>30-34</td>\n",
              "      <td>17262815.0</td>\n",
              "    </tr>\n",
              "    <tr>\n",
              "      <th>Brazil</th>\n",
              "      <td>35-39</td>\n",
              "      <td>17173369.0</td>\n",
              "    </tr>\n",
              "    <tr>\n",
              "      <th>Brazil</th>\n",
              "      <td>40-44</td>\n",
              "      <td>15304366.0</td>\n",
              "    </tr>\n",
              "    <tr>\n",
              "      <th>Brazil</th>\n",
              "      <td>45-49</td>\n",
              "      <td>13598551.0</td>\n",
              "    </tr>\n",
              "    <tr>\n",
              "      <th>Brazil</th>\n",
              "      <td>50-54</td>\n",
              "      <td>12701359.0</td>\n",
              "    </tr>\n",
              "    <tr>\n",
              "      <th>Brazil</th>\n",
              "      <td>55-59</td>\n",
              "      <td>11325249.0</td>\n",
              "    </tr>\n",
              "    <tr>\n",
              "      <th>Brazil</th>\n",
              "      <td>60-64</td>\n",
              "      <td>9155634.0</td>\n",
              "    </tr>\n",
              "    <tr>\n",
              "      <th>Brazil</th>\n",
              "      <td>65-69</td>\n",
              "      <td>7136551.0</td>\n",
              "    </tr>\n",
              "    <tr>\n",
              "      <th>Brazil</th>\n",
              "      <td>70-74</td>\n",
              "      <td>5045585.0</td>\n",
              "    </tr>\n",
              "    <tr>\n",
              "      <th>Brazil</th>\n",
              "      <td>75-79</td>\n",
              "      <td>3355505.0</td>\n",
              "    </tr>\n",
              "    <tr>\n",
              "      <th>Brazil</th>\n",
              "      <td>80-84</td>\n",
              "      <td>2231141.0</td>\n",
              "    </tr>\n",
              "    <tr>\n",
              "      <th>Brazil</th>\n",
              "      <td>85-89</td>\n",
              "      <td>1117244.0</td>\n",
              "    </tr>\n",
              "    <tr>\n",
              "      <th>Brazil</th>\n",
              "      <td>90-94</td>\n",
              "      <td>487930.0</td>\n",
              "    </tr>\n",
              "    <tr>\n",
              "      <th>Brazil</th>\n",
              "      <td>95-99</td>\n",
              "      <td>132832.0</td>\n",
              "    </tr>\n",
              "    <tr>\n",
              "      <th>Brazil</th>\n",
              "      <td>100+</td>\n",
              "      <td>18733.0</td>\n",
              "    </tr>\n",
              "  </tbody>\n",
              "</table>\n",
              "</div>"
            ],
            "text/plain": [
              "         AgeGrp    PopTotal\n",
              "Location                   \n",
              "Brazil      0-4  14571950.0\n",
              "Brazil      5-9  14616230.0\n",
              "Brazil    10-14  15151589.0\n",
              "Brazil    15-19  16481486.0\n",
              "Brazil    20-24  17206784.0\n",
              "Brazil    25-29  16974616.0\n",
              "Brazil    30-34  17262815.0\n",
              "Brazil    35-39  17173369.0\n",
              "Brazil    40-44  15304366.0\n",
              "Brazil    45-49  13598551.0\n",
              "Brazil    50-54  12701359.0\n",
              "Brazil    55-59  11325249.0\n",
              "Brazil    60-64   9155634.0\n",
              "Brazil    65-69   7136551.0\n",
              "Brazil    70-74   5045585.0\n",
              "Brazil    75-79   3355505.0\n",
              "Brazil    80-84   2231141.0\n",
              "Brazil    85-89   1117244.0\n",
              "Brazil    90-94    487930.0\n",
              "Brazil    95-99    132832.0\n",
              "Brazil     100+     18733.0"
            ]
          },
          "metadata": {
            "tags": []
          },
          "execution_count": 4
        }
      ]
    },
    {
      "cell_type": "markdown",
      "metadata": {
        "id": "Le6-LGUDSRCG",
        "colab_type": "text"
      },
      "source": [
        "#Taxa de letalidade por idade\n",
        "Amostra em % com base no [Global Covid-19 Case Fatality Rates](https://www.cebm.net/covid-19/global-covid-19-case-fatality-rates/)\n",
        "\n",
        ">**Taxa de letalidade** = (*número de mortes* / *número de casos*) = *probabilidade de morrer infectado pelo vírus (%)*.\n",
        "Essa probabilidade varia de acordo com a faixa etária.\n",
        "\n",
        "As porcentagens mostradas abaixo representam o risco de morte para uma pessoa (infectada com COVID-19) em determinada faixa etária:\n",
        "![COVID-19 Fatality Rate by AGE](https://raw.githubusercontent.com/infoslack/covid-19/master/data/fatality-rate.png)\n",
        "\n",
        "Tabela retirada de [worldometers.info/coronavirus](https://www.worldometers.info/coronavirus/coronavirus-age-sex-demographics/).\n"
      ]
    },
    {
      "cell_type": "markdown",
      "metadata": {
        "id": "d8hBL8Ipp-CM",
        "colab_type": "text"
      },
      "source": [
        "#The global impact of COVID-19 and strategies for mitigation and suppression\n",
        ">O documento estima que, na ausência de intervenções, o COVID-19 resultaria em 7,0 bilhões de infecções e 40 milhões de mortes em todo o mundo este ano.\n",
        "\n",
        "Fonte: [Imperial College London](https://www.preventionweb.net/publications/view/71077)\n",
        "\n",
        "Com estratégias de mitigação (o que a maioria dos estados está fazendo hoje no Brasil) focadas na redução nos contatos sociais e desaceleração da transmissão do vírus, estima-se que até 60% da população seja contaminada.\n",
        "\n",
        "A previsão do estudo de que mesmo no cenário de mitigação, os sistemas de saúde em todos os países serão rapidamente sobrecarregados.\n",
        "É provável que esse efeito seja mais grave em ambientes de baixa renda, onde a capacidade de atendimento é mais baixa.\n",
        "\n",
        "#Previsão de mortes dos casos confirmados por faixa etária\n",
        "Nessa previsão estou supondo que 60% da população foi infectada por COVID-19\n",
        "\n",
        "Na amostragem por faixa etária estou incluindo os casos acima de **60 anos**  apenas.\n",
        "\n",
        ">As estimativas do Imperial College [apresentadas nesse estudo](https://www.imperial.ac.uk/media/imperial-college/medicine/sph/ide/gida-fellowships/Imperial-College-COVID19-NPI-modelling-16-03-2020.pdf) mencionam uma estratégia de mitigação por três meses, além do distanciamento social daqueles com mais de 70 anos. Presume-se que as estratégias de supressão estejam em vigor por 5 meses ou mais.\n",
        "\n",
        "**Nota:** Na projeção estou seguindo as estimativas do Imperial College e assumindo que os casos confirmados, bem como a taxa de letalidade estão em uma linha temporal de 6 meses."
      ]
    },
    {
      "cell_type": "markdown",
      "metadata": {
        "id": "pP6h5eRlKpy9",
        "colab_type": "text"
      },
      "source": [
        "A previsão onde 60% da população total do país é infectada, utiliza a taxa de transmissão mais assumida (2 a 3) pessoas. Mas poderia ser o dobro na verdade (5,7) como [relatado no estudo](https://wwwnc.cdc.gov/eid/article/26/7/20-0282_article). A estimativa de contaminação em [ambientes fechados é bem superior (11 a 15)](https://academic.oup.com/jtm/advance-article/doi/10.1093/jtm/taaa030/5766334)."
      ]
    },
    {
      "cell_type": "code",
      "metadata": {
        "id": "9jJrDpMHQ-OU",
        "colab_type": "code",
        "colab": {}
      },
      "source": [
        "# Separando por categorias com base no intervalo apresentado no worldometers.info/coronavirus\n",
        "pop_60_69 = un_population_total.query(\"Location=='Brazil' and AgeGrp>='60-64' & AgeGrp<'70-74' \").sum()\n",
        "pop_70_79 = un_population_total.query(\"Location=='Brazil' and AgeGrp>='70-74' & AgeGrp<'80-84' \").sum()\n",
        "pop_80 = un_population_total.query(\"Location=='Brazil' and AgeGrp>='80-84'\").sum()"
      ],
      "execution_count": 0,
      "outputs": []
    },
    {
      "cell_type": "code",
      "metadata": {
        "id": "2q7uobNwYYAH",
        "colab_type": "code",
        "colab": {}
      },
      "source": [
        "# Simulando 60% de infectados por cada grupo\n",
        "total_60_69 = pop_60_69[\"PopTotal\"] / 100 * 60\n",
        "total_70_79 = pop_70_79[\"PopTotal\"] / 100 * 60\n",
        "total_80 = pop_80[\"PopTotal\"] / 100 * 60"
      ],
      "execution_count": 0,
      "outputs": []
    },
    {
      "cell_type": "markdown",
      "metadata": {
        "id": "179FiK75t4OC",
        "colab_type": "text"
      },
      "source": [
        "### Letalidade total por grupo (acima de 60 anos), esse valor seria distribuído ao longo de 6 meses na projeção"
      ]
    },
    {
      "cell_type": "code",
      "metadata": {
        "id": "LcuhsS3oviW6",
        "colab_type": "code",
        "colab": {
          "base_uri": "https://localhost:8080/",
          "height": 136
        },
        "outputId": "4bf10f80-b51b-452b-e882-69eab8ab0a7d"
      },
      "source": [
        "# Aplicando o (%) de letalidade por faixa etária para cada grupo\n",
        "total_60_69 = total_60_69 / 100 * 3.6\n",
        "total_70_79 = total_70_79 / 100 * 8\n",
        "total_80 = total_80 / 100 * 14.8\n",
        "grouped_per_age = pd.DataFrame([total_60_69,total_70_79,total_80],\n",
        "                               index=[\"60-69\",\"70-79\",\"80+\"])\n",
        "grouped_per_age"
      ],
      "execution_count": 13,
      "outputs": [
        {
          "output_type": "execute_result",
          "data": {
            "text/html": [
              "<div>\n",
              "<style scoped>\n",
              "    .dataframe tbody tr th:only-of-type {\n",
              "        vertical-align: middle;\n",
              "    }\n",
              "\n",
              "    .dataframe tbody tr th {\n",
              "        vertical-align: top;\n",
              "    }\n",
              "\n",
              "    .dataframe thead th {\n",
              "        text-align: right;\n",
              "    }\n",
              "</style>\n",
              "<table border=\"1\" class=\"dataframe\">\n",
              "  <thead>\n",
              "    <tr style=\"text-align: right;\">\n",
              "      <th></th>\n",
              "      <th>0</th>\n",
              "    </tr>\n",
              "  </thead>\n",
              "  <tbody>\n",
              "    <tr>\n",
              "      <th>60-69</th>\n",
              "      <td>351911.1960</td>\n",
              "    </tr>\n",
              "    <tr>\n",
              "      <th>70-79</th>\n",
              "      <td>403252.3200</td>\n",
              "    </tr>\n",
              "    <tr>\n",
              "      <th>80+</th>\n",
              "      <td>352460.2536</td>\n",
              "    </tr>\n",
              "  </tbody>\n",
              "</table>\n",
              "</div>"
            ],
            "text/plain": [
              "                 0\n",
              "60-69  351911.1960\n",
              "70-79  403252.3200\n",
              "80+    352460.2536"
            ]
          },
          "metadata": {
            "tags": []
          },
          "execution_count": 13
        }
      ]
    },
    {
      "cell_type": "code",
      "metadata": {
        "id": "o-9F2NOAaIuH",
        "colab_type": "code",
        "colab": {
          "base_uri": "https://localhost:8080/",
          "height": 34
        },
        "outputId": "d719897e-643e-44eb-cf40-2939c2f9452c"
      },
      "source": [
        "soma = grouped_per_age.sum()\n",
        "int(soma)"
      ],
      "execution_count": 14,
      "outputs": [
        {
          "output_type": "execute_result",
          "data": {
            "text/plain": [
              "1107623"
            ]
          },
          "metadata": {
            "tags": []
          },
          "execution_count": 14
        }
      ]
    },
    {
      "cell_type": "code",
      "metadata": {
        "id": "vPXVZ4n10DFO",
        "colab_type": "code",
        "colab": {
          "base_uri": "https://localhost:8080/",
          "height": 326
        },
        "outputId": "1fcacc7a-e6bc-459b-a249-a8ff9ad696cd"
      },
      "source": [
        "# Gráfico comparativo por grupo\n",
        "plt.figure(figsize=(12,5))\n",
        "grouped_per_age.plot(kind='bar')\n",
        "plt.title(\"Comparativo de letalidade por faixa etária em grupos\")"
      ],
      "execution_count": 15,
      "outputs": [
        {
          "output_type": "execute_result",
          "data": {
            "text/plain": [
              "Text(0.5, 1.0, 'Comparativo de letalidade por faixa etária em grupos')"
            ]
          },
          "metadata": {
            "tags": []
          },
          "execution_count": 15
        },
        {
          "output_type": "display_data",
          "data": {
            "text/plain": [
              "<Figure size 864x360 with 0 Axes>"
            ]
          },
          "metadata": {
            "tags": []
          }
        },
        {
          "output_type": "display_data",
          "data": {
            "image/png": "[encoded data removed]",
            "text/plain": [
              "<Figure size 432x288 with 1 Axes>"
            ]
          },
          "metadata": {
            "tags": []
          }
        }
      ]
    },
    {
      "cell_type": "markdown",
      "metadata": {
        "id": "EKLqrY511dQy",
        "colab_type": "text"
      },
      "source": [
        "#TODO\n",
        "- adicionar número de leitos e respiradores\n",
        "- taxa de letalidade por casos graves (%)\n",
        "- tentar medir o colapso"
      ]
    },
    {
      "cell_type": "code",
      "metadata": {
        "id": "nsqbp_ml0s5V",
        "colab_type": "code",
        "colab": {}
      },
      "source": [
        ""
      ],
      "execution_count": 0,
      "outputs": []
    }
  ]
}